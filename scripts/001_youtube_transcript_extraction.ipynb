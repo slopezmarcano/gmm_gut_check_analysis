{
 "cells": [
  {
   "attachments": {},
   "cell_type": "markdown",
   "metadata": {},
   "source": [
    "## Description\n",
    "GMM is a very popular youtube series. They score and rank food very often and wanted to develop an script that extracts their scoring data from youtube easier than other more manual approaches"
   ]
  },
  {
   "attachments": {},
   "cell_type": "markdown",
   "metadata": {},
   "source": [
    "#### Youtube Transcript API\n",
    "We first use the youtube transcript api to extract the video where GMM rates all the Tillamook icre creams"
   ]
  },
  {
   "cell_type": "code",
   "execution_count": 1,
   "metadata": {},
   "outputs": [],
   "source": [
    "\n",
    "#--LIBRARIES--#\n",
    "from youtube_transcript_api import YouTubeTranscriptApi\n",
    "import pandas as pd\n",
    "\n",
    "#--EXTRACT DATA FROM YOUTUBE--#\n",
    "dicts = YouTubeTranscriptApi.get_transcript('cDKX3ClgbcI')\n"
   ]
  },
  {
   "attachments": {},
   "cell_type": "markdown",
   "metadata": {},
   "source": [
    "#### Filtering intro and outro\n",
    "The rating of the videos occur in the middle of the episode, so I filtered out all the discussion occurring in the intro and outro."
   ]
  },
  {
   "cell_type": "code",
   "execution_count": 2,
   "metadata": {},
   "outputs": [],
   "source": [
    "#--FILTER THE INTRODUCTION OF THE VIDEO--#\n",
    "filtered = [i for i in dicts if i['start'] >= 167.416 and i['start'] <950]"
   ]
  },
  {
   "attachments": {},
   "cell_type": "markdown",
   "metadata": {},
   "source": [
    "#### Filtering slang or exclamations\n",
    "Because we are working with the raw conversation, then I have filtered out all the comments like Yeah, Oh, Nice, Oh okay etc. This helped cleaned the data"
   ]
  },
  {
   "cell_type": "code",
   "execution_count": 3,
   "metadata": {},
   "outputs": [],
   "source": [
    "#--FILTER SLANG FROM THE TRANSCRIPT--#\n",
    "filter_words = ['- Yeah.', '- Oh.', '- Nice.', '- Oh, okay.', '- Okay.', 'Eh!']\n",
    "\n",
    "filtered2 = [i for i in filtered if i['text'] not in filter_words]\n"
   ]
  },
  {
   "attachments": {},
   "cell_type": "markdown",
   "metadata": {},
   "source": [
    "#### Extracting the names of the ice creams\n",
    "Stevie, the exec producer of the show, is the one that mentions the ice creams to be reviewed. Then after a few back and forths, Rhett and Link provide a score out of 100. "
   ]
  },
  {
   "cell_type": "code",
   "execution_count": 6,
   "metadata": {},
   "outputs": [
    {
     "name": "stderr",
     "output_type": "stream",
     "text": [
      "/var/folders/1g/035gcyqx5rl66w96lpg8_54c5w0cnx/T/ipykernel_22709/2535776630.py:15: SettingWithCopyWarning: \n",
      "A value is trying to be set on a copy of a slice from a DataFrame.\n",
      "Try using .loc[row_indexer,col_indexer] = value instead\n",
      "\n",
      "See the caveats in the documentation: https://pandas.pydata.org/pandas-docs/stable/user_guide/indexing.html#returning-a-view-versus-a-copy\n",
      "  stevie_filtered['text'] = stevie_filtered['text'].str.rstrip('.')\n"
     ]
    }
   ],
   "source": [
    "#--EXTRACT WHEN STEVIE TALKS-#\n",
    "#This is usually when stevie mentions which ice_cream they are trying\n",
    "stevie = [i for i in filtered2 if i['text'].startswith('- [Stevie]')]\n",
    "\n",
    "stevie_df = pd.DataFrame(stevie, columns=['text', 'start', 'duration'])\n",
    "\n",
    "#Extracting all of the automated [Stevie] script starts\n",
    "stevie_df['text'] = stevie_df['text'].apply(lambda x: x.split('- [Stevie]')[-1].strip())\n",
    "\n",
    "#Attempting to only leave the names of 90% of the ice creams\n",
    "filter_strings = ['You tell me', 'Are you', 'It kind of', '84', \"I'm sorry\", 'Okay,', 'sAnd that', 'And that', 'We']\n",
    "\n",
    "stevie_filtered = stevie_df[~stevie_df['text'].str.startswith(tuple(filter_strings))]\n",
    "\n",
    "stevie_filtered['text'] = stevie_filtered['text'].str.rstrip('.')"
   ]
  },
  {
   "attachments": {},
   "cell_type": "markdown",
   "metadata": {},
   "source": [
    "#### Finding the scores for each of those ice creams\n"
   ]
  }
 ],
 "metadata": {
  "kernelspec": {
   "display_name": "Python 3",
   "language": "python",
   "name": "python3"
  },
  "language_info": {
   "codemirror_mode": {
    "name": "ipython",
    "version": 3
   },
   "file_extension": ".py",
   "mimetype": "text/x-python",
   "name": "python",
   "nbconvert_exporter": "python",
   "pygments_lexer": "ipython3",
   "version": "3.9.15"
  },
  "orig_nbformat": 4,
  "vscode": {
   "interpreter": {
    "hash": "a665b5d41d17b532ea9890333293a1b812fa0b73c9c25c950b3cedf1bebd0438"
   }
  }
 },
 "nbformat": 4,
 "nbformat_minor": 2
}
